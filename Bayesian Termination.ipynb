{
 "metadata": {
  "name": "",
  "signature": "sha256:c2a66923d58995c364006cc9ebacb0c771f05053aef02cf5bf3bf3d99a8466c5"
 },
 "nbformat": 3,
 "nbformat_minor": 0,
 "worksheets": [
  {
   "cells": [
    {
     "cell_type": "markdown",
     "metadata": {},
     "source": [
      "#Predict completion and termination of transactions"
     ]
    },
    {
     "cell_type": "code",
     "collapsed": false,
     "input": [
      "%matplotlib inline\n",
      "\n",
      "import pandas as pd\n",
      "import numpy as np\n",
      "import matplotlib.pyplot as plt\n",
      "\n",
      "pd.set_option('display.width', 500)\n",
      "pd.set_option('display.max_columns', 30)\n",
      "\n",
      "# set some nicer defaults for matplotlib\n",
      "from matplotlib import rcParams\n",
      "\n",
      "#these colors come from colorbrewer2.org. Each is an RGB triplet\n",
      "dark2_colors = [(0.10588235294117647, 0.6196078431372549, 0.4666666666666667),\n",
      "                (0.8509803921568627, 0.37254901960784315, 0.00784313725490196),\n",
      "                (0.4588235294117647, 0.4392156862745098, 0.7019607843137254),\n",
      "                (0.9058823529411765, 0.1607843137254902, 0.5411764705882353),\n",
      "                (0.4, 0.6509803921568628, 0.11764705882352941),\n",
      "                (0.9019607843137255, 0.6705882352941176, 0.00784313725490196),\n",
      "                (0.6509803921568628, 0.4627450980392157, 0.11372549019607843),\n",
      "                (0.4, 0.4, 0.4)]\n",
      "\n",
      "rcParams['figure.figsize'] = (10, 6)\n",
      "rcParams['figure.dpi'] = 150\n",
      "rcParams['axes.color_cycle'] = dark2_colors\n",
      "rcParams['lines.linewidth'] = 2\n",
      "rcParams['axes.grid'] = False\n",
      "rcParams['axes.facecolor'] = 'white'\n",
      "rcParams['font.size'] = 14\n",
      "rcParams['patch.edgecolor'] = 'none'\n",
      "\n",
      "\n",
      "def remove_border(axes=None, top=False, right=False, left=True, bottom=True):\n",
      "    \"\"\"\n",
      "    Minimize chartjunk by stripping out unnecesary plot borders and axis ticks\n",
      "    \n",
      "    The top/right/left/bottom keywords toggle whether the corresponding plot border is drawn\n",
      "    \"\"\"\n",
      "    ax = axes or plt.gca()\n",
      "    ax.spines['top'].set_visible(top)\n",
      "    ax.spines['right'].set_visible(right)\n",
      "    ax.spines['left'].set_visible(left)\n",
      "    ax.spines['bottom'].set_visible(bottom)\n",
      "    \n",
      "    #turn off all ticks\n",
      "    ax.yaxis.set_ticks_position('none')\n",
      "    ax.xaxis.set_ticks_position('none')\n",
      "    \n",
      "    #now re-enable visibles\n",
      "    if top:\n",
      "        ax.xaxis.tick_top()\n",
      "    if bottom:\n",
      "        ax.xaxis.tick_bottom()\n",
      "    if left:\n",
      "        ax.yaxis.tick_left()\n",
      "    if right:\n",
      "        ax.yaxis.tick_right()\n",
      "        \n",
      "def histogram_style():\n",
      "    remove_border(left=False)\n",
      "    plt.grid(False)\n",
      "    plt.grid(axis='y', color='w', linestyle='-', lw=1)\n"
     ],
     "language": "python",
     "metadata": {},
     "outputs": [],
     "prompt_number": 13
    },
    {
     "cell_type": "code",
     "collapsed": false,
     "input": [
      "completed = pd.read_csv(\"static_announcement.csv\", encoding=\"latin-1\")\n",
      "terminated = pd.read_csv(\"static_ann_date.csv\", encoding=\"latin-1\")\n",
      "industry = pd.read_csv(\"static_industry.csv\", encoding=\"latin1\")\n",
      "\n",
      "completed = pd.merge(completed, industry, how='left', on='Action ID', suffixes=('', '_y'), copy=True)\n",
      "\n",
      "important_columns = ['Action ID', 'M&A Announcement', 'Acquirer Name', \n",
      "                     'Seller Name', 'Acq Rel index', 'Sel Rel Index',\n",
      "                     'Acquirer Industry Sector', 'Seller Industry Sector']\n",
      "\n",
      "#'Target Industry Sector' koennnte mit rein, daten fehlen.\n",
      "\n",
      "completed = completed[important_columns]\n",
      "terminated = terminated[important_columns]\n",
      "\n",
      "completed = completed.dropna(subset=['M&A Announcement'])\n",
      "completed = completed[completed['M&A Announcement'] != 'na']\n",
      "completed = completed[completed['M&A Announcement'] != 'tbd']\n",
      "completed = completed[completed['M&A Announcement'] != 'tba']\n",
      "\n",
      "terminated = terminated.dropna(subset=['M&A Announcement'])\n",
      "terminated = terminated[terminated['M&A Announcement'] != 'na']\n",
      "terminated = terminated[terminated['M&A Announcement'] != 'tbd']\n",
      "terminated = terminated[terminated['M&A Announcement'] != 'tba']\n",
      "\n",
      "completed['complete'] = 1\n",
      "terminated['complete'] = 0\n",
      "\n",
      "transactions = pd.concat([completed, terminated], ignore_index=True)\n",
      "\n",
      "transactions.rename(columns={'M&A Announcement': 'announcement'}, inplace=True)"
     ],
     "language": "python",
     "metadata": {},
     "outputs": [],
     "prompt_number": 14
    },
    {
     "cell_type": "code",
     "collapsed": false,
     "input": [
      "n_trans = len(transactions)\n",
      "n_acq = transactions['Acquirer Industry Sector'].unique().size\n",
      "n_sel = transactions['Seller Industry Sector'].unique().size\n",
      "\n",
      "print \"Number of transactions: %i\" % n_trans\n",
      "print \"Number of Acquirer Sections: %i\" % n_acq\n",
      "print \"Number of Seller Sections:  %i\" % n_sel"
     ],
     "language": "python",
     "metadata": {},
     "outputs": [
      {
       "output_type": "stream",
       "stream": "stdout",
       "text": [
        "Number of transactions: 690\n",
        "Number of Acquirer Sections: 11\n",
        "Number of Seller Sections:  12\n"
       ]
      }
     ],
     "prompt_number": 15
    },
    {
     "cell_type": "code",
     "collapsed": false,
     "input": [
      "for a in transactions.groupby('Acquirer Industry Sector'):\n",
      "    print a[0], \":\", len(a[1])"
     ],
     "language": "python",
     "metadata": {},
     "outputs": [
      {
       "output_type": "stream",
       "stream": "stdout",
       "text": [
        "Basic Materials : 23\n",
        "Communications : 44\n",
        "Consumer, Cyclical : 36\n",
        "Consumer, Non-cyclical : 79\n",
        "Diversified : 5\n",
        "Energy : 140\n",
        "Financial : 196\n",
        "Industrial : 86\n",
        "Technology : 27\n",
        "Utilities : 26\n"
       ]
      }
     ],
     "prompt_number": 16
    },
    {
     "cell_type": "code",
     "collapsed": false,
     "input": [
      "df = transactions.copy()\n",
      "grp = df.groupby('Acquirer Industry Sector')\n",
      "means = grp.complete.mean()     # average completion rate for each sector"
     ],
     "language": "python",
     "metadata": {},
     "outputs": [],
     "prompt_number": 17
    },
    {
     "cell_type": "markdown",
     "metadata": {},
     "source": [
      "## Prediction\n",
      "The following methods are taken from http://nbviewer.ipython.org/github/cs109/content/blob/master/HW3_solutions.ipynb\n",
      "\n",
      "Please follow the link to see an in depth discussion of this topic "
     ]
    },
    {
     "cell_type": "code",
     "collapsed": false,
     "input": [
      "from sklearn.feature_extraction.text import CountVectorizer\n",
      "from sklearn.cross_validation import train_test_split\n",
      "from sklearn.naive_bayes import MultinomialNB\n",
      "\n",
      "def make_xy(transactions, vectorizer=None):\n",
      "    #Your code here    \n",
      "    if vectorizer is None:\n",
      "        vectorizer = CountVectorizer()\n",
      "    X = vectorizer.fit_transform(transactions.announcement)\n",
      "    X = X.tocsc()  # some versions of sklearn return COO format\n",
      "    Y = transactions.complete.values.astype(np.int)\n",
      "    return X, Y"
     ],
     "language": "python",
     "metadata": {},
     "outputs": [],
     "prompt_number": 18
    },
    {
     "cell_type": "code",
     "collapsed": false,
     "input": [
      "X, Y = make_xy(transactions)"
     ],
     "language": "python",
     "metadata": {},
     "outputs": [],
     "prompt_number": 19
    },
    {
     "cell_type": "code",
     "collapsed": false,
     "input": [
      "#Your code here\n",
      "xtrain, xtest, ytrain, ytest = train_test_split(X, Y)\n",
      "clf = MultinomialNB().fit(xtrain, ytrain)\n",
      "\n",
      "print \"Accuracy: %0.2f%%\" % (100 * clf.score(xtest, ytest))"
     ],
     "language": "python",
     "metadata": {},
     "outputs": [
      {
       "output_type": "stream",
       "stream": "stdout",
       "text": [
        "Accuracy: 86.13%\n"
       ]
      }
     ],
     "prompt_number": 20
    },
    {
     "cell_type": "code",
     "collapsed": false,
     "input": [
      "training_accuracy = clf.score(xtrain, ytrain)\n",
      "test_accuracy = clf.score(xtest, ytest)\n",
      "\n",
      "print \"Accuracy on training data: %0.2f\" % (training_accuracy)\n",
      "print \"Accuracy on test data:     %0.2f\" % (test_accuracy)"
     ],
     "language": "python",
     "metadata": {},
     "outputs": [
      {
       "output_type": "stream",
       "stream": "stdout",
       "text": [
        "Accuracy on training data: 0.97\n",
        "Accuracy on test data:     0.86\n"
       ]
      }
     ],
     "prompt_number": 21
    },
    {
     "cell_type": "code",
     "collapsed": false,
     "input": [
      "def log_likelihood(clf, x, y):\n",
      "    prob = clf.predict_log_proba(x)\n",
      "    terminated = y == 0\n",
      "    completed = ~terminated\n",
      "    return prob[terminated, 0].sum() + prob[completed, 1].sum()"
     ],
     "language": "python",
     "metadata": {},
     "outputs": [],
     "prompt_number": 22
    },
    {
     "cell_type": "code",
     "collapsed": false,
     "input": [
      "from sklearn.cross_validation import KFold\n",
      "\n",
      "def cv_score(clf, x, y, score_func):\n",
      "    result = 0\n",
      "    nfold = 5\n",
      "    for train, test in KFold(y.size, nfold): # split data into train/test groups, 5 times\n",
      "        clf.fit(x[train], y[train]) # fit\n",
      "        result += score_func(clf, x[test], y[test]) # evaluate score function on held-out data\n",
      "    return result / nfold # average"
     ],
     "language": "python",
     "metadata": {},
     "outputs": [],
     "prompt_number": 23
    },
    {
     "cell_type": "code",
     "collapsed": false,
     "input": [
      "#the grid of parameters to search over\n",
      "alphas = [0, .1, 1, 5, 10, 50]\n",
      "min_dfs = [1e-5, 1e-4, 1e-3, 1e-2, 1e-1]\n",
      "\n",
      "#Find the best value for alpha and min_df, and the best classifier\n",
      "best_alpha = None\n",
      "best_min_df = None\n",
      "max_loglike = -np.inf\n",
      "\n",
      "for alpha in alphas:\n",
      "    for min_df in min_dfs:         \n",
      "        vectorizer = CountVectorizer(min_df = min_df)       \n",
      "        X, Y = make_xy(transactions, vectorizer)\n",
      "        \n",
      "        #your code here\n",
      "        clf = MultinomialNB(alpha=alpha)\n",
      "        loglike = cv_score(clf, X, Y, log_likelihood)\n",
      "\n",
      "        if loglike > max_loglike:\n",
      "            max_loglike = loglike\n",
      "            best_alpha, best_min_df = alpha, min_df"
     ],
     "language": "python",
     "metadata": {},
     "outputs": [],
     "prompt_number": 24
    },
    {
     "cell_type": "code",
     "collapsed": false,
     "input": [
      "print \"alpha: %f\" % best_alpha\n",
      "print \"min_df: %f\" % best_min_df"
     ],
     "language": "python",
     "metadata": {},
     "outputs": [
      {
       "output_type": "stream",
       "stream": "stdout",
       "text": [
        "alpha: 1.000000\n",
        "min_df: 0.100000\n"
       ]
      }
     ],
     "prompt_number": 25
    },
    {
     "cell_type": "code",
     "collapsed": false,
     "input": [
      "vectorizer = CountVectorizer(min_df=best_min_df)\n",
      "X, Y = make_xy(transactions, vectorizer)\n",
      "xtrain, xtest, ytrain, ytest = train_test_split(X, Y)\n",
      "\n",
      "clf = MultinomialNB(alpha=best_alpha).fit(xtrain, ytrain)\n",
      "\n",
      "\n",
      "# Your code here. Print the accuracy on the test and training dataset\n",
      "training_accuracy = clf.score(xtrain, ytrain)\n",
      "test_accuracy = clf.score(xtest, ytest)\n",
      "\n",
      "print \"Accuracy on training data: %0.2f\" % (training_accuracy)\n",
      "print \"Accuracy on test data:     %0.2f\" % (test_accuracy)"
     ],
     "language": "python",
     "metadata": {},
     "outputs": [
      {
       "output_type": "stream",
       "stream": "stdout",
       "text": [
        "Accuracy on training data: 0.92\n",
        "Accuracy on test data:     0.90\n"
       ]
      }
     ],
     "prompt_number": 26
    },
    {
     "cell_type": "code",
     "collapsed": false,
     "input": [
      "words = np.array(vectorizer.get_feature_names())\n",
      "\n",
      "x = np.eye(xtest.shape[1])\n",
      "probs = clf.predict_log_proba(x)[:, 0]\n",
      "ind = np.argsort(probs)\n",
      "\n",
      "good_words = words[ind[:10]]\n",
      "bad_words = words[ind[-10:]]\n",
      "\n",
      "good_prob = probs[ind[:10]]\n",
      "bad_prob = probs[ind[-10:]]\n",
      "\n",
      "print \"Good words\\t     P(completion | word)\"\n",
      "for w, p in zip(good_words, good_prob):\n",
      "    print \"%20s\" % w, \"%0.2f\" % (1 - np.exp(p))\n",
      "    \n",
      "print \"Bad words\\t     P(completion | word)\"\n",
      "for w, p in zip(bad_words, bad_prob):\n",
      "    print \"%20s\" % w, \"%0.2f\" % (1 - np.exp(p))"
     ],
     "language": "python",
     "metadata": {},
     "outputs": [
      {
       "output_type": "stream",
       "stream": "stdout",
       "text": [
        "Good words\t     P(completion | word)\n",
        "                feet 0.99\n",
        "            pipeline 0.98\n",
        "         partnership 0.98\n",
        "             storage 0.97\n",
        "          processing 0.96\n",
        "          properties 0.95\n",
        "      transportation 0.95\n",
        "         adjustments 0.95\n",
        "                 oil 0.95\n",
        "            reserves 0.95\n",
        "Bad words\t     P(completion | word)\n",
        "        participants 0.37\n",
        "           documents 0.36\n",
        "        stockholders 0.31\n",
        "        solicitation 0.30\n",
        "            relevant 0.28\n",
        "            officers 0.26\n",
        "             holders 0.22\n",
        "               proxy 0.20\n",
        "              merger 0.18\n",
        "            proposal 0.06\n"
       ]
      }
     ],
     "prompt_number": 27
    },
    {
     "cell_type": "code",
     "collapsed": false,
     "input": [
      "x, y = make_xy(transactions, vectorizer)\n",
      "\n",
      "prob = clf.predict_proba(x)[:, 0]\n",
      "predict = clf.predict(x)"
     ],
     "language": "python",
     "metadata": {},
     "outputs": [],
     "prompt_number": 28
    },
    {
     "cell_type": "code",
     "collapsed": false,
     "input": [
      "clf.predict_proba(vectorizer.transform(['The feet.']))\n"
     ],
     "language": "python",
     "metadata": {},
     "outputs": [
      {
       "metadata": {},
       "output_type": "pyout",
       "prompt_number": 29,
       "text": [
        "array([[ 0.0099397,  0.9900603]])"
       ]
      }
     ],
     "prompt_number": 29
    },
    {
     "cell_type": "markdown",
     "metadata": {},
     "source": [
      "## Predict additional announcement texts (neither in test nor training data)"
     ]
    },
    {
     "cell_type": "code",
     "collapsed": false,
     "input": [
      "guesses = pd.read_csv(\"guesses.csv\", encoding=\"latin-1\")"
     ],
     "language": "python",
     "metadata": {},
     "outputs": [],
     "prompt_number": 30
    },
    {
     "cell_type": "code",
     "collapsed": false,
     "input": [
      "guesses.head()"
     ],
     "language": "python",
     "metadata": {},
     "outputs": [
      {
       "html": [
        "<div style=\"max-height:1000px;max-width:1500px;overflow:auto;\">\n",
        "<table border=\"1\" class=\"dataframe\">\n",
        "  <thead>\n",
        "    <tr style=\"text-align: right;\">\n",
        "      <th></th>\n",
        "      <th>announcement</th>\n",
        "      <th>id</th>\n",
        "    </tr>\n",
        "  </thead>\n",
        "  <tbody>\n",
        "    <tr>\n",
        "      <th>0</th>\n",
        "      <td> Prospect Capital Corporation Agrees to Acquire...</td>\n",
        "      <td> 85162159</td>\n",
        "    </tr>\n",
        "    <tr>\n",
        "      <th>1</th>\n",
        "      <td>   McKesson Announces Agreement to Purchase Cel...</td>\n",
        "      <td> 82925712</td>\n",
        "    </tr>\n",
        "    <tr>\n",
        "      <th>2</th>\n",
        "      <td> Jos. A. Bank Confirms Proposal to Acquire Men'...</td>\n",
        "      <td> 82396435</td>\n",
        "    </tr>\n",
        "    <tr>\n",
        "      <th>3</th>\n",
        "      <td> Banner Corporation to Acquire Home Federal Ban...</td>\n",
        "      <td> 81785204</td>\n",
        "    </tr>\n",
        "    <tr>\n",
        "      <th>4</th>\n",
        "      <td> \\nLP Agrees to Acquire Ainsworth, Advancing It...</td>\n",
        "      <td> 81126053</td>\n",
        "    </tr>\n",
        "  </tbody>\n",
        "</table>\n",
        "</div>"
       ],
       "metadata": {},
       "output_type": "pyout",
       "prompt_number": 31,
       "text": [
        "                                        announcement        id\n",
        "0  Prospect Capital Corporation Agrees to Acquire...  85162159\n",
        "1    McKesson Announces Agreement to Purchase Cel...  82925712\n",
        "2  Jos. A. Bank Confirms Proposal to Acquire Men'...  82396435\n",
        "3  Banner Corporation to Acquire Home Federal Ban...  81785204\n",
        "4  \\nLP Agrees to Acquire Ainsworth, Advancing It...  81126053"
       ]
      }
     ],
     "prompt_number": 31
    },
    {
     "cell_type": "code",
     "collapsed": false,
     "input": [
      "guesses_dict = {}\n",
      "for a in guesses.values:\n",
      "     guesses_dict[a[1]] = clf.predict_proba(vectorizer.transform([a[0]]))"
     ],
     "language": "python",
     "metadata": {},
     "outputs": [],
     "prompt_number": 32
    },
    {
     "cell_type": "code",
     "collapsed": false,
     "input": [
      "for a, v in guesses_dict.iteritems():\n",
      "    if v[0][1] > .9:\n",
      "        print a, \"terminated\"\n",
      "    elif v[0][0] >.9:\n",
      "        print a, \"completed\"\n",
      "    else:\n",
      "        print a, \"uncertain\""
     ],
     "language": "python",
     "metadata": {},
     "outputs": [
      {
       "output_type": "stream",
       "stream": "stdout",
       "text": [
        "82926816 completed\n",
        "87356592 terminated\n",
        "81126053 terminated\n",
        "81486694 terminated\n",
        "85373607 terminated\n",
        "82800715 completed\n",
        "82301260 terminated\n",
        "85162159 uncertain\n",
        "82925712 completed\n",
        "85028626 completed\n",
        "82396435 completed\n",
        "81785204 completed\n",
        "81165749 terminated\n",
        "82448184 terminated\n",
        "82883518 completed\n",
        "82687103 terminated\n"
       ]
      }
     ],
     "prompt_number": 33
    },
    {
     "cell_type": "code",
     "collapsed": false,
     "input": [],
     "language": "python",
     "metadata": {},
     "outputs": [],
     "prompt_number": 33
    }
   ],
   "metadata": {}
  }
 ]
}